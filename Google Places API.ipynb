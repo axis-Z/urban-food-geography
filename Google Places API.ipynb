{
 "cells": [
  {
   "cell_type": "code",
   "execution_count": null,
   "metadata": {},
   "outputs": [],
   "source": [
    "import googlemaps\n",
    "import json\n",
    "import pprint\n",
    "import xlsxwriter\n",
    "import time"
   ]
  },
  {
   "cell_type": "code",
   "execution_count": null,
   "metadata": {},
   "outputs": [],
   "source": [
    "API_KEY = 'YOUR API KEY HERE'"
   ]
  },
  {
   "cell_type": "code",
   "execution_count": null,
   "metadata": {},
   "outputs": [],
   "source": [
    "gmaps = googlemaps.Client(key = API_KEY)"
   ]
  },
  {
   "cell_type": "code",
   "execution_count": null,
   "metadata": {},
   "outputs": [],
   "source": [
    "places_result  = gmaps.places_nearby(location='41.69411,44.83368', radius = 10000, type = 'bar')\n",
    "\n",
    "time.sleep(3)\n",
    "\n",
    "places_result  = gmaps.places_nearby(page_token = places_result['next_page_token'])\n",
    "\n",
    "stored_results = []\n",
    "\n",
    "# loop through each of the places in the results, and get the place details.      \n",
    "for place in places_result['results']:\n",
    "\n",
    "    # define the place id, needed to get place details. Formatted as a string.\n",
    "    my_place_id = place['place_id']\n",
    "\n",
    "    # define the fields you would liked return. Formatted as a list.\n",
    "    my_fields = ['name', 'geometry/location'] \n",
    "\n",
    "    # make a request for the details.\n",
    "    places_details  = gmaps.place(place_id= my_place_id , fields= my_fields)\n",
    "\n",
    "    # print the results of the details, returned as a dictionary.\n",
    "    pprint.pprint(places_details['result'])\n",
    "\n",
    "    # store the results in a list object.\n",
    "    stored_results.append(places_details['result'])\n",
    "\n",
    "    # -------------- DUMPING VALUES IN EXCEL -----------------------\n",
    "\n",
    "# define the headers, that is just the key of each result dictionary.\n",
    "row_headers = stored_results[0].keys()\n",
    "\n",
    "# create a new workbook and a new worksheet.\n",
    "workbook = xlsxwriter.Workbook(r'/LOCATION ON YOUR PC/data.xlsx')\n",
    "worksheet = workbook.add_worksheet()\n",
    "\n",
    "# populate the header row\n",
    "col = 0\n",
    "for header in row_headers:\n",
    "    worksheet.write(0, col, header)\n",
    "    col += 1\n",
    "\n",
    "row = 1\n",
    "col = 0\n",
    "# populate the other rows\n",
    "\n",
    "# get each result from the list.\n",
    "for result in stored_results:\n",
    "\n",
    "    # get the values from each result.\n",
    "    result_values = result.values()\n",
    "\n",
    "    # loop through each value in the values component.\n",
    "    for value in result_values:\n",
    "        worksheet.write(row, col, value)\n",
    "        col += 1\n",
    "    \n",
    "    # make sure to go to the next row & reset the column.\n",
    "    row += 1\n",
    "    col = 0\n",
    "\n",
    "# close the workbook\n",
    "workbook.close()"
   ]
  },
  {
   "cell_type": "code",
   "execution_count": null,
   "metadata": {},
   "outputs": [],
   "source": []
  }
 ],
 "metadata": {
  "kernelspec": {
   "display_name": "Python 3",
   "language": "python",
   "name": "python3"
  },
  "language_info": {
   "codemirror_mode": {
    "name": "ipython",
    "version": 3
   },
   "file_extension": ".py",
   "mimetype": "text/x-python",
   "name": "python",
   "nbconvert_exporter": "python",
   "pygments_lexer": "ipython3",
   "version": "3.8.8"
  }
 },
 "nbformat": 4,
 "nbformat_minor": 2
}
